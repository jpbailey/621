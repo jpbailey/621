{
 "cells": [
  {
   "cell_type": "code",
   "execution_count": null,
   "metadata": {},
   "outputs": [],
   "source": [
    "# this code will pass along different sentences and extract the sentiment of each sentence\n",
    "# scores close to 1 are positive sentiment and scores approaching 0 are negative sentiment\n",
    "\n",
    "import requests\n",
    "import json\n",
    "\n",
    "subscription_key = \"97ebe3685e6b4da4b51944cdf2435842\"\n",
    "assert subscription_key\n",
    "\n",
    "sentiment_api_url = \"https://eastus.api.cognitive.microsoft.com/text/analytics/v2.1/sentiment\"\n",
    "\n",
    "documents = {'documents' : [\n",
    "    {'id': '1', 'language': 'en', 'text': 'This is the worst movie.'},\n",
    "    {'id': '2', 'language': 'en', 'text': 'This is the best movie.'}\n",
    "]}\n",
    "\n",
    "headers   = {\"Ocp-Apim-Subscription-Key\": subscription_key}\n",
    "req  = requests.post(sentiment_api_url, headers=headers, json=documents)\n",
    "content = req.content.decode(\"utf-8\")\n",
    "loaded = json.loads(content)\n",
    "print(json.dumps(loaded, indent=4, sort_keys=True))\n",
    "\n"
   ]
  },
  {
   "cell_type": "code",
   "execution_count": null,
   "metadata": {},
   "outputs": [],
   "source": []
  }
 ],
 "metadata": {
  "kernelspec": {
   "display_name": "Python 3",
   "language": "python",
   "name": "python3"
  },
  "language_info": {
   "codemirror_mode": {
    "name": "ipython",
    "version": 3
   },
   "file_extension": ".py",
   "mimetype": "text/x-python",
   "name": "python",
   "nbconvert_exporter": "python",
   "pygments_lexer": "ipython3",
   "version": "3.7.3"
  }
 },
 "nbformat": 4,
 "nbformat_minor": 2
}
