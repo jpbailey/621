{
 "cells": [
  {
   "cell_type": "code",
   "execution_count": null,
   "metadata": {},
   "outputs": [],
   "source": [
    "import requests\n",
    "import json\n",
    "import pandas as pd\n",
    "\n",
    "review = \"This movie is the worst.\"\n",
    "\n",
    "\n",
    "# df = pd.read_csv('./reviews.csv')\n",
    "\n",
    "# print(len(df.index))\n",
    "\n",
    "# for index, row in df.iterrows():\n",
    "#     print(row['review'])\n",
    "\n",
    "# n = 0\n",
    "# inputstring = \"documents = {'documents' : [\"\n",
    "# for row in df:\n",
    "#     inputstring+=(\"{'id': '\" + str(n) + \"', 'language': 'en', 'text': '\" + row.review + \"'},\")\n",
    "# documents = inputstring + ']}'\n",
    "\n",
    "# print(inputstring)\n",
    "\n",
    "subscription_key = \"97ebe3685e6b4da4b51944cdf2435842\"\n",
    "assert subscription_key\n",
    "\n",
    "sentiment_api_url = \"https://eastus.api.cognitive.microsoft.com/text/analytics/v2.1/languages\"\n",
    "\n",
    "documents = {'documents' : [\n",
    "   {'id': '1', 'language': 'en', 'text': 'This is a wonderful movie.'}\n",
    "]}\n",
    "\n",
    "headers   = {\"Ocp-Apim-Subscription-Key\": subscription_key}\n",
    "response  = requests.post(sentiment_api_url, headers=headers, json=documents)\n",
    "sentiments = response.json()\n",
    "print(sentiments)\n",
    "\n",
    "\n",
    "# req1 = requests.get(\"https://www.bitstamp.net/api/v2/ticker/btceur/\")\n",
    "# content1 = req1.content.decode(\"utf-8\")\n",
    "# loaded1 = json.loads(content1)\n",
    "# print(json.dumps(loaded1, indent=4, sort_keys=True))\n",
    "\n"
   ]
  },
  {
   "cell_type": "code",
   "execution_count": null,
   "metadata": {},
   "outputs": [],
   "source": [
    "from azure.cognitiveservices.language.textanalytics import TextAnalyticsClient\n",
    "from msrest.authentication import CognitiveServicesCredentials\n",
    "\n",
    "subscription_key = '97ebe3685e6b4da4b51944cdf2435842'\n",
    "\n",
    "credentials = CognitiveServicesCredentials(subscription_key)\n",
    "\n",
    "text_analytics_url= \"https://eastus.api.cognitive.microsoft.com/text/analytics/v2.1/languages\"\n",
    "\n",
    "text_analytics = TextAnalyticsClient(endpoint=text_analytics_url, credentials=credentials)\n",
    "\n",
    "documents = [\n",
    "    {\n",
    "        \"id\": \"1\",\n",
    "        \"language\": \"en\",\n",
    "        \"text\": \"I had the best day of my life.\"\n",
    "    }\n",
    "]\n",
    "response = text_analytics.sentiment(documents=documents)\n",
    "for document in response.documents:\n",
    "    print(\"Document Id: \", document.id, \", Sentiment Score: \",\n",
    "          \"{:.2f}\".format(document.score))"
   ]
  },
  {
   "cell_type": "code",
   "execution_count": null,
   "metadata": {},
   "outputs": [],
   "source": []
  }
 ],
 "metadata": {
  "kernelspec": {
   "display_name": "Python 3",
   "language": "python",
   "name": "python3"
  },
  "language_info": {
   "codemirror_mode": {
    "name": "ipython",
    "version": 3
   },
   "file_extension": ".py",
   "mimetype": "text/x-python",
   "name": "python",
   "nbconvert_exporter": "python",
   "pygments_lexer": "ipython3",
   "version": "3.7.3"
  }
 },
 "nbformat": 4,
 "nbformat_minor": 2
}
