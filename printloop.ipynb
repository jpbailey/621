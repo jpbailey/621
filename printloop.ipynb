{
 "cells": [
  {
   "cell_type": "markdown",
   "metadata": {},
   "source": [
    "# Some simple code that shows global variables, local variables, and a loop with a counter"
   ]
  },
  {
   "cell_type": "code",
   "execution_count": null,
   "metadata": {},
   "outputs": [],
   "source": [
    "# this simple script just uses a string variable and prints it out in a loop\n",
    "# for a set number of times as the word of the day\n",
    "\n",
    "ITERATIONS = 10\n",
    "WORD = \"platforms\"\n",
    "\n",
    "count = 0\n",
    "print('The word of the day is...')\n",
    "while count < ITERATIONS:\n",
    "    print(WORD)\n",
    "    count = count + 1\n",
    "    "
   ]
  }
 ],
 "metadata": {
  "kernelspec": {
   "display_name": "Python 3",
   "language": "python",
   "name": "python3"
  },
  "language_info": {
   "codemirror_mode": {
    "name": "ipython",
    "version": 3
   },
   "file_extension": ".py",
   "mimetype": "text/x-python",
   "name": "python",
   "nbconvert_exporter": "python",
   "pygments_lexer": "ipython3",
   "version": "3.6.5"
  }
 },
 "nbformat": 4,
 "nbformat_minor": 2
}
