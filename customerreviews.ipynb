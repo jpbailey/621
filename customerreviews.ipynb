{
 "cells": [
  {
   "cell_type": "code",
   "execution_count": null,
   "metadata": {},
   "outputs": [],
   "source": [
    "# this is old code to look at a bunch of customer reviews\n",
    "\n",
    "# df = pd.read_csv('./reviews.csv')\n",
    "\n",
    "# print(len(df.index))\n",
    "\n",
    "# for index, row in df.iterrows():\n",
    "#     print(row['review'])\n",
    "\n",
    "# n = 0\n",
    "# inputstring = \"documents = {'documents' : [\"\n",
    "# for row in df:\n",
    "#     inputstring+=(\"{'id': '\" + str(n) + \"', 'language': 'en', 'text': '\" + row.review + \"'},\")\n",
    "# documents = inputstring + ']}'\n",
    "\n",
    "# print(inputstring)"
   ]
  }
 ],
 "metadata": {
  "kernelspec": {
   "display_name": "Python 3",
   "language": "python",
   "name": "python3"
  },
  "language_info": {
   "codemirror_mode": {
    "name": "ipython",
    "version": 3
   },
   "file_extension": ".py",
   "mimetype": "text/x-python",
   "name": "python",
   "nbconvert_exporter": "python",
   "pygments_lexer": "ipython3",
   "version": "3.7.3"
  }
 },
 "nbformat": 4,
 "nbformat_minor": 2
}
