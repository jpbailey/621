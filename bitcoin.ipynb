{
 "cells": [
  {
   "cell_type": "code",
   "execution_count": null,
   "metadata": {},
   "outputs": [],
   "source": [
    "# This code gets bitoin data formatted as json from a URL\n",
    "# note that you do not need a key to get access to this data\n",
    "\n",
    "import requests\n",
    "import json\n",
    "\n",
    "req = requests.get(\"https://api.coindesk.com/v1/bpi/currentprice.json\")\n",
    "content = req.content.decode(\"utf-8\")\n",
    "loaded = json.loads(content)\n",
    "print(json.dumps(loaded, indent=4, sort_keys=True))\n"
   ]
  },
  {
   "cell_type": "code",
   "execution_count": null,
   "metadata": {},
   "outputs": [],
   "source": [
    "#let's say that you just want one piece of data from this object, then you can access it\n",
    "# based on all of the items within the object\n",
    "\n",
    "print(loaded['bpi']['USD']['rate'])"
   ]
  },
  {
   "cell_type": "code",
   "execution_count": null,
   "metadata": {},
   "outputs": [],
   "source": []
  }
 ],
 "metadata": {
  "kernelspec": {
   "display_name": "Python 3",
   "language": "python",
   "name": "python3"
  },
  "language_info": {
   "codemirror_mode": {
    "name": "ipython",
    "version": 3
   },
   "file_extension": ".py",
   "mimetype": "text/x-python",
   "name": "python",
   "nbconvert_exporter": "python",
   "pygments_lexer": "ipython3",
   "version": "3.7.3"
  }
 },
 "nbformat": 4,
 "nbformat_minor": 2
}
